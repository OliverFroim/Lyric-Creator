# Importar la biblioteca de OpenAI
import openai

# Establecer tu clave de API de OpenAI
openai.api_key = 'tu_clave_de_api_aqui'

def generar_letra_cancion(tema, recursos_liricos):
    # Combinar el tema y los recursos líricos en un prompt
    prompt = f"Letra de canción sobre {tema} utilizando los siguientes recursos líricos: {', '.join(recursos_liricos)}."
    
    # Generar la letra de la canción utilizando OpenAI
    respuesta = openai.Completion.create(
        engine="text-davinci-003",
        prompt=prompt,
        max_tokens=100,
        n=1,
        stop=None
    )
    
    # Extraer y devolver la letra generada
    letra_generada = respuesta['choices'][0]['text']
    return letra_generada

# Función para permitir al usuario editar el tema y los recursos líricos
def editar_parametros():
    tema = input("Ingresa el tema de la canción: ")
    recursos_liricos = input("Ingresa los recursos líricos que deseas utilizar (separados por coma): ").split(',')
    return tema, recursos_liricos

# Lógica principal del programa
def main():
    # Obtener el tema y los recursos líricos del usuario
    tema, recursos_liricos = editar_parametros()
    
    # Generar la letra de la canción
    letra = generar_letra_cancion(tema, recursos_liricos)
    
    # Imprimir la letra generada
    print("\nLetra de la canción generada:\n")
    print(letra)

# Llamar a la función principal
if __name__ == "__main__":
    main()

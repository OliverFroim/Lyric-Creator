{
 "cells": [
  {
   "cell_type": "markdown",
   "metadata": {},
   "source": [
    "# Generador de Letras de Canciones\n",
    "\n",
    "En esta notebook, utilizaremos técnicas de Fast prompting para generar letras de canciones personalizadas."
   ]
  },
  {
   "cell_type": "markdown",
   "metadata": {},
   "source": [
    "## Introducción\n",
    "\n",
    "Breve descripción del propósito de la notebook y la problemática que se abordará."
   ]
  },
  {
   "cell_type": "markdown",
   "metadata": {},
   "source": [
    "## Generación del Prompt\n",
    "\n",
    "En esta sección, generaremos un prompt personalizado para la letra de la canción. El prompt incluirá el tema de la canción y una lista de recursos líricos proporcionados por el usuario."
   ]
  },
  {
   "cell_type": "code",
   "execution_count": 1,
   "metadata": {},
   "outputs": [],
   "source": [
    "# Importar la biblioteca de OpenAI\n",
    "import openai\n",
    "\n",
    "# Establecer tu clave de API de OpenAI\n",
    "openai.api_key = 'tu_clave_de_api_aqui'\n",
    "\n",
    "# Función para generar la letra de la canción\n",
    "def generar_letra_cancion(tema, recursos_liricos):\n",
    "    # Combinar el tema y los recursos líricos en un prompt\n",
    "    prompt = f\"Letra de canción sobre {tema} utilizando los siguientes recursos líricos: {', '.join(recursos_liricos)}.\"\n",
    "    \n",
    "    # Generar la letra de la canción utilizando OpenAI\n",
    "    respuesta = openai.Completion.create(\n",
    "        engine=\"text-davinci-003\",\n",
    "        prompt=prompt,\n",
    "        max_tokens=100,\n",
    "        n=1,\n",
    "        stop=None\n",
    "    )\n",
    "    \n",
    "    # Extraer y devolver la letra generada\n",
    "    letra_generada = respuesta['choices'][0]['text']\n",
    "    return letra_generada\n",
    "\n",
    "# Función para permitir al usuario editar el tema y los recursos líricos\n",
    "def editar_parametros():\n",
    "    tema = input(\"Ingresa el tema de la canción: \")\n",
    "    recursos_liricos = input(\"Ingresa los recursos líricos que deseas utilizar (separados por coma): \").split(',')\n",
    "    return tema, recursos_liricos\n",
    "\n",
    "# Lógica principal del programa\n",
    "def main():\n",
    "    # Obtener el tema y los recursos líricos del usuario\n",
    "    tema, recursos_liricos = editar_parametros()\n",
    "    \n",
    "    # Generar la letra de la canción\n",
    "    letra = generar_letra_cancion(tema, recursos_liricos)\n",
    "    \n",
    "    # Imprimir la letra generada\n",
    "    print(\"\\nLetra de la canción generada:\\n\")\n",
    "    print(letra)\n",
    "\n",
    "# Llamar a la función principal\n",
    "if __name__ == \"__main__\":\n",
    "    main()"
   ]
  },
  {
   "cell_type": "markdown",
   "metadata": {},
   "source": [
    "## Ejecución del Código\n",
    "\n",
    "En esta sección, el usuario puede ejecutar el código proporcionado para generar letras de canciones personalizadas."
   ]
  },
  {
   "cell_type": "markdown",
   "metadata": {},
   "source": [
    "## Conclusiones\n",
    "\n",
    "Resumen de los resultados obtenidos, reflexiones sobre el proceso y posibles áreas de mejora."
   ]
  }
 ],
 "metadata": {
  "kernelspec": {
   "display_name": "Python 3",
   "language": "python",
   "name": "python3"
  },
  "language_info": {
   "codemirror_mode": {
    "name": "ipython",
    "version": 3
   },
   "file_extension": ".py",
   "mimetype": "text/x-python",
   "name": "python",
   "nbconvert_exporter": "python",
   "pygments_lexer": "ipython3",
   "version": "3.9.7"
  }
 },
 "nbformat": 4,
 "nbformat_minor": 5
}

{
 "cells": [
  {
   "cell_type": "markdown",
   "metadata": {},
   "source": [
    "# Generador de Portadas de Álbumes Musicales\n",
    "\n",
    "En esta notebook, utilizaremos técnicas de Fast prompting para generar portadas de álbumes musicales personalizadas."
   ]
  },
  {
   "cell_type": "markdown",
   "metadata": {},
   "source": [
    "## Introducción\n",
    "\n",
    "El arte de la portada de un álbum es una parte importante de la experiencia musical. Una portada bien diseñada puede capturar la esencia de la música y atraer la atención del público. En esta notebook, exploraremos cómo utilizar la generación de texto para crear prompts personalizados que nos ayuden a generar portadas de álbumes únicas y creativas."
   ]
  },
  {
   "cell_type": "markdown",
   "metadata": {},
   "source": [
    "## Generación del Prompt\n",
    "\n",
    "En esta sección, generaremos un prompt personalizado para la portada del álbum. El prompt incluirá el título del álbum, el género musical y una lista de elementos creativos proporcionados por el usuario."
   ]
  },
  {
   "cell_type": "code",
   "execution_count": 1,
   "metadata": {},
   "outputs": [],
   "source": [
    "# Función para generar el prompt de la portada del álbum\n",
    "def generar_prompt_portada_album(titulo, genero, elementos_creativos):\n",
    "    prompt = f\"Genera una portada de álbum para '{titulo}' en el género musical '{genero}'. Incluye los siguientes elementos creativos:\\n\"\n",
    "    for elemento in elementos_creativos:\n",
    "        prompt += f\"- {elemento}\\n\"\n",
    "    return prompt\n",
    "\n",
    "# Función para permitir al usuario editar el título, género y elementos creativos de la portada\n",
    "def editar_parametros():\n",
    "    titulo = input(\"Ingresa el título del álbum: \")\n",
    "    genero = input(\"Ingresa el género musical del álbum: \")\n",
    "    elementos_creativos = input(\"Ingresa los elementos creativos que deseas incluir en la portada (separados por coma): \").split(',')\n",
    "    return titulo, genero, elementos_creativos\n",
    "\n",
    "# Obtener el título, género y elementos creativos del usuario\n",
    "titulo, genero, elementos_creativos = editar_parametros()\n",
    "\n",
    "# Generar el prompt para la portada del álbum\n",
    "prompt_portada = generar_prompt_portada_album(titulo, genero, elementos_creativos)\n",
    "\n",
    "# Imprimir el prompt generado\n",
    "print(\"\\nPrompt generado para la portada del álbum:\\n\")\n",
    "print(prompt_portada)"
   ]
  },
  {
   "cell_type": "markdown",
   "metadata": {},
   "source": [
    "## Ejecución en la Herramienta de Generación de Imágenes\n",
    "\n",
    "Después de generar el prompt, pegaremos el prompt en la herramienta de generación de imágenes (por ejemplo, NightCafe) y ejecutaremos la herramienta para obtener la imagen resultante.\n",
    "\n",
    "Una vez generada la imagen, la mostraremos en la notebook."
   ]
  },
  {
   "cell_type": "markdown",
   "metadata": {},
   "source": [
    "## Resultados\n",
    "\n",
    "En esta sección, mostraremos la imagen resultante de la portada del álbum generada."
   ]
  },
  {
   "cell_type": "markdown",
   "metadata": {},
   "source": [
    "## Conclusiones\n",
    "\n",
    "Resumen de los resultados obtenidos, reflexiones sobre el proceso y posibles áreas de mejora."
   ]
  }
 ],
 "metadata": {
  "kernelspec": {
   "display_name": "Python 3",
   "language": "python",
   "name": "python3"
  },
  "language_info": {
   "codemirror_mode": {
    "name": "ipython",
    "version": 3
   },
   "file_extension": ".py",
   "mimetype": "text/x-python",
   "name": "python",
   "nbconvert_exporter": "python",
   "pygments_lexer": "ipython3",
   "version": "3.9.7"
  }
 },
 "nbformat": 4,
 "nbformat_minor": 5
}
